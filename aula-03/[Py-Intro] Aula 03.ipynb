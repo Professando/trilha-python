{
 "cells": [
  {
   "cell_type": "markdown",
   "metadata": {},
   "source": [
    "# [Py-Intro] Aula 03\n",
    "# Tipos básicos e estruturas de controles\n",
    "\n",
    "## O que você vai aprender nesta aula?\n",
    "\n",
    "Após o término da aula você terá aprendido:\n",
    "\n",
    "- Conjuntos: set e frozenset\n",
    "- Mapeamentos: dicionários\n",
    "- ?"
   ]
  },
  {
   "cell_type": "markdown",
   "metadata": {},
   "source": [
    "# Tipos básicos - conjuntos e mapeamentos\n",
    "\n",
    "Na aula passada vimos outros tipos básicos: números e sequência.\n",
    "\n",
    "Agora vamos falar sobre conjuntos.\n",
    "\n",
    "### Set (conjunto)\n",
    "\n",
    "Conjunto, ou set, é uma ferramenta subutilizada do Python, tanto que muitos cursos introdutórios não passam abordam esse assunto.\n",
    "\n",
    "Set vem da teoria de conjuntos da matemática. Um conjunto não permite a existência de elementos iguais dentro de si, por conta disso é muito utilizado para remover repetições:"
   ]
  },
  {
   "cell_type": "code",
   "execution_count": 2,
   "metadata": {
    "collapsed": false
   },
   "outputs": [
    {
     "data": {
      "text/plain": [
       "['spam', 'spam', 'eggs', 'spam']"
      ]
     },
     "execution_count": 2,
     "metadata": {},
     "output_type": "execute_result"
    }
   ],
   "source": [
    "l = ['spam', 'spam', 'eggs', 'spam']\n",
    "l"
   ]
  },
  {
   "cell_type": "code",
   "execution_count": 2,
   "metadata": {
    "collapsed": false
   },
   "outputs": [
    {
     "data": {
      "text/plain": [
       "{'eggs', 'spam'}"
      ]
     },
     "execution_count": 2,
     "metadata": {},
     "output_type": "execute_result"
    }
   ],
   "source": [
    "set(l)"
   ]
  },
  {
   "cell_type": "markdown",
   "metadata": {},
   "source": [
    "Como podemos ver a sintaxe de set - {1}, {1, 2}, etc. - se parece exatamente com a notação matemática, com exceção que não existe uma notação para set vazio. Caso você precise criar um conjunto vazio use: `set()`."
   ]
  },
  {
   "cell_type": "code",
   "execution_count": 16,
   "metadata": {
    "collapsed": false
   },
   "outputs": [
    {
     "data": {
      "text/plain": [
       "0"
      ]
     },
     "execution_count": 16,
     "metadata": {},
     "output_type": "execute_result"
    }
   ],
   "source": [
    "A = set()\n",
    "len(a)"
   ]
  },
  {
   "cell_type": "markdown",
   "metadata": {},
   "source": [
    "Vale lembrar que conjuntos também se comportam como sequências, por conta disso é possível usar neles as funções que aprendemos anteriormente:"
   ]
  },
  {
   "cell_type": "code",
   "execution_count": 17,
   "metadata": {
    "collapsed": false
   },
   "outputs": [
    {
     "data": {
      "text/plain": [
       "{2, 3, 4, 5, 10}"
      ]
     },
     "execution_count": 17,
     "metadata": {},
     "output_type": "execute_result"
    }
   ],
   "source": [
    "A = {5, 4, 3, 3, 2, 10}\n",
    "A"
   ]
  },
  {
   "cell_type": "code",
   "execution_count": 18,
   "metadata": {
    "collapsed": false
   },
   "outputs": [
    {
     "data": {
      "text/plain": [
       "5"
      ]
     },
     "execution_count": 18,
     "metadata": {},
     "output_type": "execute_result"
    }
   ],
   "source": [
    "len(A)"
   ]
  },
  {
   "cell_type": "code",
   "execution_count": 19,
   "metadata": {
    "collapsed": false
   },
   "outputs": [
    {
     "data": {
      "text/plain": [
       "24"
      ]
     },
     "execution_count": 19,
     "metadata": {},
     "output_type": "execute_result"
    }
   ],
   "source": [
    "sum(A)"
   ]
  },
  {
   "cell_type": "code",
   "execution_count": 20,
   "metadata": {
    "collapsed": false
   },
   "outputs": [
    {
     "data": {
      "text/plain": [
       "10"
      ]
     },
     "execution_count": 20,
     "metadata": {},
     "output_type": "execute_result"
    }
   ],
   "source": [
    "max(A)"
   ]
  },
  {
   "cell_type": "code",
   "execution_count": 21,
   "metadata": {
    "collapsed": false
   },
   "outputs": [
    {
     "data": {
      "text/plain": [
       "2"
      ]
     },
     "execution_count": 21,
     "metadata": {},
     "output_type": "execute_result"
    }
   ],
   "source": [
    "min(A)"
   ]
  },
  {
   "cell_type": "markdown",
   "metadata": {},
   "source": [
    "Um ponto importante a se observar é que conjunto não mantém a ordem dos elementos:"
   ]
  },
  {
   "cell_type": "code",
   "execution_count": 4,
   "metadata": {
    "collapsed": false
   },
   "outputs": [
    {
     "data": {
      "text/plain": [
       "{1, 3, 4, 5, 7}"
      ]
     },
     "execution_count": 4,
     "metadata": {},
     "output_type": "execute_result"
    }
   ],
   "source": [
    "A = {4, 5, 1, 3, 4, 5, 7}\n",
    "A  # ordem diferente da declarada!"
   ]
  },
  {
   "cell_type": "markdown",
   "metadata": {},
   "source": [
    "Por isso não é possível acessar os elementos pela posição:"
   ]
  },
  {
   "cell_type": "code",
   "execution_count": 23,
   "metadata": {
    "collapsed": false
   },
   "outputs": [
    {
     "ename": "TypeError",
     "evalue": "'set' object does not support indexing",
     "output_type": "error",
     "traceback": [
      "\u001b[1;31m---------------------------------------------------------------------------\u001b[0m",
      "\u001b[1;31mTypeError\u001b[0m                                 Traceback (most recent call last)",
      "\u001b[1;32m<ipython-input-23-3f7632ffc2df>\u001b[0m in \u001b[0;36m<module>\u001b[1;34m()\u001b[0m\n\u001b[1;32m----> 1\u001b[1;33m \u001b[0mA\u001b[0m\u001b[1;33m[\u001b[0m\u001b[1;36m0\u001b[0m\u001b[1;33m]\u001b[0m\u001b[1;33m\u001b[0m\u001b[0m\n\u001b[0m",
      "\u001b[1;31mTypeError\u001b[0m: 'set' object does not support indexing"
     ]
    }
   ],
   "source": [
    "A[0]"
   ]
  },
  {
   "cell_type": "markdown",
   "metadata": {},
   "source": [
    "É possível acessar seus elementos iterando o set:"
   ]
  },
  {
   "cell_type": "code",
   "execution_count": 7,
   "metadata": {
    "collapsed": false
   },
   "outputs": [
    {
     "name": "stdout",
     "output_type": "stream",
     "text": [
      "1\n",
      "3\n",
      "4\n",
      "5\n",
      "7\n"
     ]
    }
   ],
   "source": [
    "for num in A:\n",
    "    print(num)"
   ]
  },
  {
   "cell_type": "markdown",
   "metadata": {},
   "source": [
    "Ou convertendo-o para tupla ou lista:"
   ]
  },
  {
   "cell_type": "code",
   "execution_count": 8,
   "metadata": {
    "collapsed": false
   },
   "outputs": [
    {
     "data": {
      "text/plain": [
       "(1, 3, 4, 5, 7)"
      ]
     },
     "execution_count": 8,
     "metadata": {},
     "output_type": "execute_result"
    }
   ],
   "source": [
    "tuple(A)"
   ]
  },
  {
   "cell_type": "code",
   "execution_count": 10,
   "metadata": {
    "collapsed": false
   },
   "outputs": [
    {
     "data": {
      "text/plain": [
       "1"
      ]
     },
     "execution_count": 10,
     "metadata": {},
     "output_type": "execute_result"
    }
   ],
   "source": [
    "tuple(A)[0]"
   ]
  },
  {
   "cell_type": "code",
   "execution_count": 9,
   "metadata": {
    "collapsed": false
   },
   "outputs": [
    {
     "data": {
      "text/plain": [
       "[1, 3, 4, 5, 7]"
      ]
     },
     "execution_count": 9,
     "metadata": {},
     "output_type": "execute_result"
    }
   ],
   "source": [
    "list(A)"
   ]
  },
  {
   "cell_type": "code",
   "execution_count": 11,
   "metadata": {
    "collapsed": false
   },
   "outputs": [
    {
     "data": {
      "text/plain": [
       "7"
      ]
     },
     "execution_count": 11,
     "metadata": {},
     "output_type": "execute_result"
    }
   ],
   "source": [
    "list(A)[-1]"
   ]
  },
  {
   "cell_type": "markdown",
   "metadata": {},
   "source": [
    "Assim como listas os conjuntos também possuem um mecanismo simplificado para construir conjuntos o `set comprehension`:"
   ]
  },
  {
   "cell_type": "code",
   "execution_count": 98,
   "metadata": {
    "collapsed": false
   },
   "outputs": [
    {
     "data": {
      "text/plain": [
       "{'a', 'b', 'd', 'k', 'l', 'm', 'r', 'z'}"
      ]
     },
     "execution_count": 98,
     "metadata": {},
     "output_type": "execute_result"
    }
   ],
   "source": [
    "{letra for letra in 'abrakadabraalakazam'}"
   ]
  },
  {
   "cell_type": "code",
   "execution_count": 101,
   "metadata": {
    "collapsed": false
   },
   "outputs": [
    {
     "data": {
      "text/plain": [
       "{1, 2, 4, 5, 7, 8, 10, 11, 13, 14, 16, 17, 19, 20, 22, 23, 25, 26, 28, 29}"
      ]
     },
     "execution_count": 101,
     "metadata": {},
     "output_type": "execute_result"
    }
   ],
   "source": [
    "{numero for numero in range(30) if numero % 3 != 0}"
   ]
  },
  {
   "cell_type": "markdown",
   "metadata": {},
   "source": [
    "Outra característica importante de conjuntos é que eles realizam verificações de pertencimento de forma muito mais eficiente.\n",
    "\n",
    "Para demonstrar isso vamos usar o módulo [timeit](https://docs.python.org/3/library/timeit.html) que oferece uma maneira simples de contar o tempo de execução de código Python.\n",
    "\n",
    "O módulo `timeit` possui uma função `timeit(stmt='pass', setup='pass', number=1000000, ...)` que executa um `setup` e um `código` (stmt) uma dada quantidade de vezes e contabiliza o tempo levado para executar o código (o tempo de rodar o setup não é incluído). O código e o setup devem ser passados como strings."
   ]
  },
  {
   "cell_type": "code",
   "execution_count": 23,
   "metadata": {
    "collapsed": false
   },
   "outputs": [
    {
     "data": {
      "text/plain": [
       "2.484276436998698"
      ]
     },
     "execution_count": 23,
     "metadata": {},
     "output_type": "execute_result"
    }
   ],
   "source": [
    "import timeit\n",
    "\n",
    "tempo = timeit.timeit('[math.exp(x) for x in range(10)]', setup='import math')\n",
    "tempo"
   ]
  },
  {
   "cell_type": "markdown",
   "metadata": {},
   "source": [
    "O código acima executa primeiro o setup `import math` depois o código `[math.exp(x) for x in range(10)]`, que cria uma lista com os exponencianciais de 0 a 9, 1000000 vezes.\n",
    "\n",
    "Para sabermos qual a média do tempo de execução desse código fazemos:"
   ]
  },
  {
   "cell_type": "code",
   "execution_count": 24,
   "metadata": {
    "collapsed": false
   },
   "outputs": [
    {
     "data": {
      "text/plain": [
       "2.484276436998698e-06"
      ]
     },
     "execution_count": 24,
     "metadata": {},
     "output_type": "execute_result"
    }
   ],
   "source": [
    "tempo / 1000000"
   ]
  },
  {
   "cell_type": "markdown",
   "metadata": {},
   "source": [
    "Sabendo disso agora podemos calcular o tempo de verificação de um elemento em lista e set:"
   ]
  },
  {
   "cell_type": "code",
   "execution_count": 46,
   "metadata": {
    "collapsed": false
   },
   "outputs": [
    {
     "name": "stdout",
     "output_type": "stream",
     "text": [
      "tamanho  | tempo da lista | tempo do set | list vs set\n",
      "1000     | 2.068e-05      | 7e-08        | set é 317x + rápido\n",
      "10000    | 0.00014707     | 4e-08        | set é 3424x + rápido\n",
      "100000   | 0.0012816      | 9e-08        | set é 15021x + rápido\n",
      "1000000  | 0.01202676     | 3e-08        | set é 361403x + rápido\n",
      "10000000 | 0.11431318     | 5e-08        | set é 2243811x + rápido\n"
     ]
    }
   ],
   "source": [
    "import timeit\n",
    "import random\n",
    "\n",
    "# PS: esse código demora para ser executado\n",
    "vezes = 1000\n",
    "print('tamanho  | tempo da lista | tempo do set | list vs set')\n",
    "tamanhos = (10 ** i for i in range(3, 8))\n",
    "for tamanho in tamanhos:  # cria um gerador com os valores 10^3, 10^4, ..., 10^7\n",
    "    setup_lista = 'l = list(range({}))'.format(tamanho)\n",
    "    tempo = timeit.timeit('9999999 in l', setup=setup_lista, number=vezes)\n",
    "    media_lista = tempo / vezes\n",
    "    \n",
    "    setup_set = 's = set(range({}))'.format(tamanho)\n",
    "    tempo = timeit.timeit('9999999 in s', setup=setup_set, number=vezes)\n",
    "    media_set = tempo / vezes\n",
    "    \n",
    "    msg = '{:<9}| {:<15}| {:<13}| set é {:<}x + rápido'\n",
    "    msg = msg.format(tamanho, round(media_lista, 8), round(media_set, 8),\n",
    "                     round(media_lista / media_set))\n",
    "    print(msg)"
   ]
  },
  {
   "cell_type": "markdown",
   "metadata": {},
   "source": [
    "Esse código usa alguns recursos mais avançados de formatação de string. Para entender melhor o que é feito verifique a [documentação oficial do assunto](https://docs.python.org/3/library/string.html#format-string-syntax)."
   ]
  },
  {
   "cell_type": "markdown",
   "metadata": {
    "collapsed": false
   },
   "source": [
    "Conjuntos também oferecem algumas operações interessantes:\n",
    "\n",
    "<center>União $${(A \\cup B)}$$</center>\n",
    "![União (A U B)](img/uniao.svg)\n",
    "\n",
    "A união pode ser feita a partir da função A.union(B) ou através da utilização do operador bitwise ou `|` : "
   ]
  },
  {
   "cell_type": "code",
   "execution_count": 9,
   "metadata": {
    "collapsed": false
   },
   "outputs": [
    {
     "data": {
      "text/plain": [
       "{2, 3, 4, 5, 7}"
      ]
     },
     "execution_count": 9,
     "metadata": {},
     "output_type": "execute_result"
    }
   ],
   "source": [
    "A = {2, 3, 4}\n",
    "B = {3, 5, 7}\n",
    "A | B"
   ]
  },
  {
   "cell_type": "code",
   "execution_count": 10,
   "metadata": {
    "collapsed": false
   },
   "outputs": [
    {
     "data": {
      "text/plain": [
       "{2, 3, 4, 5, 7}"
      ]
     },
     "execution_count": 10,
     "metadata": {},
     "output_type": "execute_result"
    }
   ],
   "source": [
    "A.union(B)"
   ]
  },
  {
   "cell_type": "markdown",
   "metadata": {
    "collapsed": true
   },
   "source": [
    "<center>Intersecção $${A \\cap B}$$</center>\n",
    "![](img/interseccao.svg)\n",
    "\n",
    "A intersecção pode ser feita a partir da função A.intersection(B) ou com o operador bitwise e `&` :"
   ]
  },
  {
   "cell_type": "code",
   "execution_count": 11,
   "metadata": {
    "collapsed": false
   },
   "outputs": [
    {
     "data": {
      "text/plain": [
       "{3}"
      ]
     },
     "execution_count": 11,
     "metadata": {},
     "output_type": "execute_result"
    }
   ],
   "source": [
    "A = {2, 3, 4}\n",
    "B = {3, 5, 7}\n",
    "A & B"
   ]
  },
  {
   "cell_type": "code",
   "execution_count": 12,
   "metadata": {
    "collapsed": false
   },
   "outputs": [
    {
     "data": {
      "text/plain": [
       "{3}"
      ]
     },
     "execution_count": 12,
     "metadata": {},
     "output_type": "execute_result"
    }
   ],
   "source": [
    "A.intersection(B)"
   ]
  },
  {
   "cell_type": "markdown",
   "metadata": {},
   "source": [
    "<center>Diferença $${A - B}$$</center>\n",
    "![](img/diferenca.svg)\n",
    "\n",
    "A diferença pode ser feita a partir da função A.difference(B) ou com o operador `-` :"
   ]
  },
  {
   "cell_type": "code",
   "execution_count": 13,
   "metadata": {
    "collapsed": false
   },
   "outputs": [
    {
     "data": {
      "text/plain": [
       "{2, 4}"
      ]
     },
     "execution_count": 13,
     "metadata": {},
     "output_type": "execute_result"
    }
   ],
   "source": [
    "A = {2, 3, 4}\n",
    "B = {3, 5, 7}\n",
    "A - B"
   ]
  },
  {
   "cell_type": "code",
   "execution_count": 14,
   "metadata": {
    "collapsed": false
   },
   "outputs": [
    {
     "data": {
      "text/plain": [
       "{2, 4}"
      ]
     },
     "execution_count": 14,
     "metadata": {},
     "output_type": "execute_result"
    }
   ],
   "source": [
    "A = {2, 3, 4}\n",
    "B = {3, 5, 7}\n",
    "A.difference(B)"
   ]
  },
  {
   "cell_type": "markdown",
   "metadata": {},
   "source": [
    "<center>Diferença simétrica $${A \\bigtriangleup B}$$</center>\n",
    "![](img/diferenca-simetrica.svg)\n",
    "\n",
    "A diferença pode ser feita a partir da função A.difference(B) ou com o operador `^` :"
   ]
  },
  {
   "cell_type": "code",
   "execution_count": 15,
   "metadata": {
    "collapsed": false
   },
   "outputs": [
    {
     "data": {
      "text/plain": [
       "{2, 4, 5, 7}"
      ]
     },
     "execution_count": 15,
     "metadata": {},
     "output_type": "execute_result"
    }
   ],
   "source": [
    "A = {2, 3, 4}\n",
    "B = {3, 5, 7}\n",
    "A ^ B"
   ]
  },
  {
   "cell_type": "code",
   "execution_count": 16,
   "metadata": {
    "collapsed": false
   },
   "outputs": [
    {
     "data": {
      "text/plain": [
       "{2, 4, 5, 7}"
      ]
     },
     "execution_count": 16,
     "metadata": {},
     "output_type": "execute_result"
    }
   ],
   "source": [
    "A.symmetric_difference(B)"
   ]
  },
  {
   "cell_type": "markdown",
   "metadata": {},
   "source": [
    "Ok, essas funções são legais, mas eu já vi isso no ensino médio e nunca usei na minha vida, como isso vai ser útil para mim? (pelo menos foi isso que eu pensei ao ver isso)\n",
    "\n",
    "Para testar isso vamos gerar um conjunto de nomes. Vamos usar a biblioteca externa [faker](http://fake-factory.readthedocs.io/en/latest/index.html) que gera dados falsos.\n",
    "\n",
    "Para usá-la é necessário instalar:\n",
    "    \n",
    "    $ pip install fake-factory\n",
    "\n",
    "Depois de instalá-la em nosso virtualenv podemos usá-la:"
   ]
  },
  {
   "cell_type": "code",
   "execution_count": 30,
   "metadata": {
    "collapsed": false,
    "scrolled": true
   },
   "outputs": [
    {
     "data": {
      "text/plain": [
       "{'Giovanna Oliveira',\n",
       " 'Luiz Gustavo Gomes',\n",
       " 'Sr. Davi Martins',\n",
       " 'Ana Sophia Almeida',\n",
       " 'Lara Araújo',\n",
       " 'Mirella Fernandes',\n",
       " 'Mariane Rodrigues',\n",
       " 'Luiz Otávio Silva',\n",
       " 'Pietra Silva',\n",
       " 'Levi Fernandes',\n",
       " 'Rafaela Barros',\n",
       " 'Clarice Ribeiro',\n",
       " 'Augusto Correia',\n",
       " 'Gustavo Henrique Silva',\n",
       " 'Danilo Correia',\n",
       " 'Ana Carolina Cunha',\n",
       " 'Breno Pereira',\n",
       " 'Bruna Cardoso',\n",
       " 'Dra. Catarina Souza',\n",
       " 'Nathan Pereira',\n",
       " 'Dra. Sabrina Oliveira',\n",
       " 'Ana Beatriz Azevedo',\n",
       " 'Srta. Maria Castro',\n",
       " 'Dr. Luiz Fernando Pereira',\n",
       " 'Thiago Pereira',\n",
       " 'Sra. Isabelly Gomes',\n",
       " 'Danilo Araújo',\n",
       " 'Pietro Carvalho',\n",
       " 'Sr. Lucas Gomes',\n",
       " 'Dra. Marina Martins',\n",
       " 'Dr. Bryan Rodrigues',\n",
       " 'Gabrielly Santos',\n",
       " 'Melissa Souza',\n",
       " 'Bárbara Oliveira',\n",
       " 'Noah Barbosa',\n",
       " 'Thiago Costela',\n",
       " 'Pietra Barbosa',\n",
       " 'Mirella Ferreira',\n",
       " 'Srta. Maria Vitória Rocha',\n",
       " 'Srta. Sofia Ferreira',\n",
       " 'Francisco Correia',\n",
       " 'Marina Cardoso',\n",
       " 'Dra. Alice Costela',\n",
       " 'Leonardo Azevedo',\n",
       " 'João Lucas Castro',\n",
       " 'Sr. Matheus Barros',\n",
       " 'Dr. Eduardo Ferreira',\n",
       " 'Gabrielly Rodrigues',\n",
       " 'Sra. Bruna Rodrigues',\n",
       " 'Sra. Heloísa Azevedo',\n",
       " 'Julia Costela',\n",
       " 'Eduardo Pinto',\n",
       " 'Gabrielly Azevedo',\n",
       " 'Dr. Rodrigo Cunha',\n",
       " 'Rodrigo Cunha',\n",
       " 'Ana Sophia Barbosa',\n",
       " 'Carlos Eduardo Silva',\n",
       " 'Caio Santos',\n",
       " 'João Vitor Azevedo',\n",
       " 'Enzo Gabriel Santos',\n",
       " 'Lucca Alves',\n",
       " 'Maitê Correia',\n",
       " 'Sra. Ana Carolina Alves',\n",
       " 'Enzo Gabriel Correia',\n",
       " 'Stephany Pereira',\n",
       " 'Dr. Theo Melo',\n",
       " 'Carlos Eduardo Rocha',\n",
       " 'Sr. Lorenzo Ribeiro',\n",
       " 'Danilo Lima',\n",
       " 'Ana Araújo',\n",
       " 'Sr. Enzo Gomes',\n",
       " 'Marcela Araújo',\n",
       " 'André Alves',\n",
       " 'Alexandre Castro',\n",
       " 'Luigi Dias',\n",
       " 'Henrique Barbosa',\n",
       " 'Leonardo Melo',\n",
       " 'Olivia Silva',\n",
       " 'João Felipe Oliveira',\n",
       " 'Dra. Ana Julia Carvalho',\n",
       " 'Sra. Valentina Carvalho',\n",
       " 'João Felipe Cunha',\n",
       " 'Beatriz Barbosa',\n",
       " 'Breno Cardoso',\n",
       " 'João Vitor Cardoso',\n",
       " 'Sr. Gabriel Araújo',\n",
       " 'Enrico Barros',\n",
       " 'Davi Correia',\n",
       " 'Sra. Carolina Fernandes',\n",
       " 'Bernardo Gomes',\n",
       " 'Francisco Ribeiro',\n",
       " 'Daniel Alves',\n",
       " 'Dr. Joaquim Correia',\n",
       " 'Erick Barros',\n",
       " 'Sr. Luiz Fernando Azevedo',\n",
       " 'Sr. Calebe Araújo',\n",
       " 'Manuela Castro',\n",
       " 'Olivia Rocha',\n",
       " 'Srta. Nina Ferreira',\n",
       " 'Juliana Azevedo',\n",
       " 'Dra. Clarice Alves',\n",
       " 'Juan Costela',\n",
       " 'Clarice Barbosa',\n",
       " 'Srta. Maitê Alves',\n",
       " 'Dr. Lorenzo Ribeiro',\n",
       " 'João Felipe Almeida',\n",
       " 'Alexia Costela',\n",
       " 'Lucca Pereira',\n",
       " 'Paulo Santos',\n",
       " 'Sra. Isabel Silva',\n",
       " 'Bárbara Martins',\n",
       " 'Melissa Costela',\n",
       " 'Vitor Dias',\n",
       " 'Isabella Santos',\n",
       " 'Daniel Rodrigues',\n",
       " 'Sr. Thales Carvalho',\n",
       " 'Pietra Martins',\n",
       " 'Dr. Gustavo Henrique Cardoso',\n",
       " 'Vinicius Gomes',\n",
       " 'Ana Clara Barbosa',\n",
       " 'Ana Lívia Araújo',\n",
       " 'Kaique Pinto',\n",
       " 'Srta. Maria Cardoso',\n",
       " 'Luiz Gustavo Lima',\n",
       " 'Felipe Carvalho',\n",
       " 'André Costela',\n",
       " 'Sr. Daniel Costela',\n",
       " 'Srta. Agatha Costela',\n",
       " 'Bárbara Pereira',\n",
       " 'Letícia Dias',\n",
       " 'Lara Ferreira',\n",
       " 'Elisa Ferreira',\n",
       " 'Mirella Souza',\n",
       " 'Isaac Rocha',\n",
       " 'Laís Alves',\n",
       " 'Luiz Felipe Gomes',\n",
       " 'Thiago Lima',\n",
       " 'Luiz Miguel Santos',\n",
       " 'Isabella Carvalho',\n",
       " 'Rafael Dias',\n",
       " 'João Pedro Martins',\n",
       " 'Maria Fernanda Rodrigues',\n",
       " 'Ryan Costela',\n",
       " 'Alice Oliveira',\n",
       " 'Clara Araújo',\n",
       " 'Sra. Elisa Martins',\n",
       " 'Eloah Barbosa',\n",
       " 'Marcelo Rodrigues',\n",
       " 'Sarah Carvalho',\n",
       " 'Ian Barbosa',\n",
       " 'Rafaela Cardoso',\n",
       " 'Lucas Gomes',\n",
       " 'Dr. Heitor Fernandes',\n",
       " 'Julia Melo',\n",
       " 'Gustavo Pereira',\n",
       " 'Carolina Pereira',\n",
       " 'Felipe Gomes',\n",
       " 'Leandro Ribeiro',\n",
       " 'Natália Dias',\n",
       " 'Juliana Pinto',\n",
       " 'Alexia Azevedo',\n",
       " 'Emanuella Cunha',\n",
       " 'Thiago Oliveira',\n",
       " 'Maria Vitória Martins',\n",
       " 'Dr. Marcos Vinicius Dias',\n",
       " 'Beatriz Silva',\n",
       " 'Bruna Martins',\n",
       " 'Sr. Diogo Carvalho',\n",
       " 'Lavínia Fernandes',\n",
       " 'Bárbara Rodrigues',\n",
       " 'Brenda Alves',\n",
       " 'Marina Azevedo',\n",
       " 'Luiza Melo',\n",
       " 'Srta. Helena Ferreira',\n",
       " 'Luiza Pereira',\n",
       " 'Luna Silva',\n",
       " 'Gabrielly Gomes',\n",
       " 'Pedro Lucas Correia',\n",
       " 'Vitor Carvalho',\n",
       " 'Dr. Luiz Gustavo Barros',\n",
       " 'Dr. Gabriel Rocha',\n",
       " 'Luana Lima',\n",
       " 'Ana Vitória Cunha',\n",
       " 'Dra. Eloah Melo',\n",
       " 'Raul Cunha',\n",
       " 'Sr. Vitor Gabriel Martins',\n",
       " 'Otávio Ribeiro',\n",
       " 'Sr. Pedro Henrique Santos',\n",
       " 'Srta. Milena Santos',\n",
       " 'Carlos Eduardo Castro',\n",
       " 'Bárbara Pinto',\n",
       " 'Gabriela Oliveira',\n",
       " 'Gustavo Henrique Ribeiro',\n",
       " 'Thomas Araújo',\n",
       " 'Sra. Rebeca Azevedo',\n",
       " 'Sra. Gabriela Pinto',\n",
       " 'Dr. Enrico Cunha',\n",
       " 'João Miguel Araújo',\n",
       " 'Cecília Cunha',\n",
       " 'Sr. Alexandre Pereira',\n",
       " 'Dr. André Ferreira',\n",
       " 'Emanuel Martins',\n",
       " 'Marcelo Ferreira',\n",
       " 'Augusto Castro',\n",
       " 'Marcelo Cardoso',\n",
       " 'Vitor Hugo Gomes',\n",
       " 'Sra. Laura Barros',\n",
       " 'Clarice Dias',\n",
       " 'Sr. Igor Azevedo',\n",
       " 'Emanuelly Costela',\n",
       " 'Calebe Carvalho',\n",
       " 'Sabrina Gomes',\n",
       " 'Theo Gomes',\n",
       " 'Vitor Barros',\n",
       " 'Sra. Yasmin Gomes',\n",
       " 'Erick Pereira',\n",
       " 'Marcos Vinicius Souza',\n",
       " 'Helena Alves',\n",
       " 'Leandro Lima',\n",
       " 'Thales Cardoso',\n",
       " 'Theo Ferreira',\n",
       " 'Bruna Araújo',\n",
       " 'Nicolas Costela',\n",
       " 'Sr. Pedro Ribeiro',\n",
       " 'Heloísa Rocha',\n",
       " 'Erick Rodrigues',\n",
       " 'Paulo Pereira',\n",
       " 'Esther Gomes',\n",
       " 'Maria Sophia Fernandes',\n",
       " 'Cecília Cardoso',\n",
       " 'Yasmin Rocha',\n",
       " 'Srta. Eduarda Pinto',\n",
       " 'Yasmin Barbosa',\n",
       " 'Vitor Lima',\n",
       " 'Luna Almeida',\n",
       " 'Maria Luiza Pereira',\n",
       " 'Sarah Pinto',\n",
       " 'Nathan Gomes',\n",
       " 'Benjamin Gomes',\n",
       " 'Ana Laura Cardoso',\n",
       " 'Enrico Fernandes',\n",
       " 'Sr. Isaac Pereira',\n",
       " 'Emanuelly Fernandes',\n",
       " 'Raquel Ribeiro',\n",
       " 'Luiz Miguel Almeida',\n",
       " 'Davi Martins',\n",
       " 'Rebeca Pereira',\n",
       " 'Sr. Raul Almeida',\n",
       " 'Maysa Castro',\n",
       " 'Gabrielly Alves',\n",
       " 'Clarice Gomes',\n",
       " 'Thiago Cardoso',\n",
       " 'Luiz Fernando Martins',\n",
       " 'Dra. Alícia Ribeiro',\n",
       " 'Vinicius Silva',\n",
       " 'Amanda Santos',\n",
       " 'Marcela Almeida',\n",
       " 'Antonio Azevedo',\n",
       " 'Beatriz Carvalho',\n",
       " 'Juan Rodrigues',\n",
       " 'Srta. Mariana Almeida',\n",
       " 'Sr. Luiz Miguel Souza',\n",
       " 'Thomas Barbosa',\n",
       " 'Dra. Lavínia Fernandes',\n",
       " 'Dr. Pedro Henrique Silva',\n",
       " 'Vitor Gabriel Araújo',\n",
       " 'Luiz Felipe Souza',\n",
       " 'Lívia Fernandes',\n",
       " 'Emanuel Souza',\n",
       " 'Catarina Martins',\n",
       " 'Dra. Luna Barros',\n",
       " 'João Vitor Rodrigues',\n",
       " 'Srta. Alana Castro',\n",
       " 'Sr. Ryan Lima',\n",
       " 'Sr. Theo Martins',\n",
       " 'Sr. Felipe Rodrigues',\n",
       " 'Emanuelly Almeida',\n",
       " 'Luiza Ribeiro',\n",
       " 'Dr. Davi Lucas Correia',\n",
       " 'Ana Clara Oliveira',\n",
       " 'Marcela Rocha',\n",
       " 'Kamilly Azevedo',\n",
       " 'Maria Eduarda Lima',\n",
       " 'Renan Araújo',\n",
       " 'Rebeca Cardoso',\n",
       " 'Bruna Ribeiro',\n",
       " 'Ana Lívia Melo',\n",
       " 'Mariane Correia',\n",
       " 'Heloísa Lima',\n",
       " 'Sr. Alexandre Cardoso',\n",
       " 'Camila Martins',\n",
       " 'Laura Araújo',\n",
       " 'Maria Eduarda Costela',\n",
       " 'Sra. Isabella Melo',\n",
       " 'Matheus Araújo',\n",
       " 'Sr. Davi Ribeiro',\n",
       " 'Dr. Diogo Santos',\n",
       " 'Dr. Danilo Araújo',\n",
       " 'Melissa Rodrigues',\n",
       " 'Sra. Ana Lívia Alves',\n",
       " 'Cauã Almeida',\n",
       " 'Maria Fernanda Oliveira',\n",
       " 'Dra. Larissa Oliveira',\n",
       " 'Kamilly Rodrigues',\n",
       " 'Laura Rocha',\n",
       " 'Srta. Nina Santos',\n",
       " 'Sarah Martins',\n",
       " 'João Pedro Araújo',\n",
       " 'Sabrina Santos',\n",
       " 'Pietra Cunha',\n",
       " 'Ian Pinto',\n",
       " 'João Pedro Alves',\n",
       " 'Sra. Eduarda Cunha',\n",
       " 'Lucas Oliveira',\n",
       " 'Maria Eduarda Martins',\n",
       " 'Theo Souza',\n",
       " 'Lavínia Azevedo',\n",
       " 'Diego Almeida',\n",
       " 'Valentina Carvalho',\n",
       " 'Ana Sophia Cardoso',\n",
       " 'Bárbara Correia',\n",
       " 'Sr. Matheus Castro',\n",
       " 'Dra. Ana Beatriz Pereira',\n",
       " 'Dr. Davi Pinto',\n",
       " 'Sra. Helena Carvalho',\n",
       " 'Cecília Souza',\n",
       " 'Srta. Melissa Souza',\n",
       " 'Srta. Lívia Carvalho',\n",
       " 'Isadora Cunha',\n",
       " 'Eduarda Souza',\n",
       " 'Dr. Marcelo Correia',\n",
       " 'Gabrielly Oliveira',\n",
       " 'Sr. Heitor Alves',\n",
       " 'Caroline Oliveira',\n",
       " 'Isabella Araújo',\n",
       " 'Vitor Gabriel Ribeiro',\n",
       " 'Nicolas Oliveira',\n",
       " 'Dr. Raul Alves',\n",
       " 'Sra. Valentina Castro',\n",
       " 'Sr. Bernardo Martins',\n",
       " 'Bárbara Carvalho',\n",
       " 'Erick Barbosa',\n",
       " 'Dr. Cauã Silva',\n",
       " 'Srta. Emanuelly Dias',\n",
       " 'Srta. Maria Luiza Oliveira',\n",
       " 'Nicole Carvalho',\n",
       " 'Isabella Pereira',\n",
       " 'Dr. Joaquim Ribeiro',\n",
       " 'Sr. Leandro Pereira',\n",
       " 'Bryan Fernandes',\n",
       " 'Ian Rocha',\n",
       " 'Letícia Pinto',\n",
       " 'Davi Lucca Dias',\n",
       " 'Sra. Maria Fernanda Cardoso',\n",
       " 'Dra. Isabelly Carvalho',\n",
       " 'Sr. Marcelo Costela',\n",
       " 'Pedro Lucas Ferreira',\n",
       " 'Samuel Ferreira',\n",
       " 'Srta. Yasmin Costela',\n",
       " 'Augusto Gomes',\n",
       " 'Vitor Cardoso',\n",
       " 'Cecília Gomes',\n",
       " 'Bernardo Ferreira',\n",
       " 'Erick Santos',\n",
       " 'Dr. Noah Rocha',\n",
       " 'Ana Ribeiro',\n",
       " 'Nathan Carvalho',\n",
       " 'Raul Dias',\n",
       " 'Thiago Carvalho',\n",
       " 'Bruna Dias',\n",
       " 'Maria Vitória Dias',\n",
       " 'Anthony Santos',\n",
       " 'Luiz Miguel Carvalho',\n",
       " 'Breno Ribeiro',\n",
       " 'Lucas Gabriel Cardoso',\n",
       " 'Dr. Nicolas Fernandes',\n",
       " 'Arthur Ribeiro',\n",
       " 'Isaac Araújo',\n",
       " 'Sophie Cunha',\n",
       " 'Alexandre Lima',\n",
       " 'Dr. Levi Dias',\n",
       " 'Carlos Eduardo Melo',\n",
       " 'Dr. André Melo',\n",
       " 'Diogo Barros',\n",
       " 'Dr. Breno Rodrigues',\n",
       " 'Pedro Miguel Oliveira',\n",
       " 'Theo Pereira',\n",
       " 'Alícia Souza',\n",
       " 'Sra. Milena Almeida',\n",
       " 'Carolina Azevedo',\n",
       " 'Marina Carvalho',\n",
       " 'Melissa Alves',\n",
       " 'Marcos Vinicius Araújo',\n",
       " 'Ana Carolina Oliveira',\n",
       " 'Srta. Ana Clara Lima',\n",
       " 'Enzo Gomes',\n",
       " 'Sofia Gomes',\n",
       " 'Dr. Luiz Otávio Gomes',\n",
       " 'Antonio Alves',\n",
       " 'Srta. Emanuella Gomes',\n",
       " 'Carolina Correia',\n",
       " 'Sra. Nina Correia',\n",
       " 'Bruna Rodrigues',\n",
       " 'Sra. Sofia Barbosa',\n",
       " 'Brenda Fernandes',\n",
       " 'Maria Julia Costela',\n",
       " 'Joana Souza',\n",
       " 'Sra. Maria Sophia Ribeiro',\n",
       " 'Gabrielly Barbosa',\n",
       " 'Sr. Henrique Costela',\n",
       " 'Paulo Dias',\n",
       " 'Augusto Cardoso',\n",
       " 'Ian Almeida',\n",
       " 'Yago Rodrigues',\n",
       " 'João Pedro Almeida',\n",
       " 'Otávio Barros',\n",
       " 'Beatriz Souza',\n",
       " 'Lavínia Costela',\n",
       " 'Marina Araújo',\n",
       " 'Maria Luiza Alves',\n",
       " 'Brenda Ferreira',\n",
       " 'Dra. Maria Luiza Alves',\n",
       " 'Dra. Camila Gomes',\n",
       " 'Marina Almeida',\n",
       " 'Vitor Melo',\n",
       " 'André Fernandes',\n",
       " 'Ana Clara Costela',\n",
       " 'Luiz Henrique Carvalho',\n",
       " 'Sra. Maria Dias',\n",
       " 'Stephany Silva',\n",
       " 'Marcelo Ribeiro',\n",
       " 'Vicente Santos',\n",
       " 'Emanuelly Pinto',\n",
       " 'Srta. Caroline Correia',\n",
       " 'Nicolas Gomes',\n",
       " 'Pietro Alves',\n",
       " 'Bruna Carvalho',\n",
       " 'Raul Gomes',\n",
       " 'Luna Ribeiro',\n",
       " 'Mariana Pereira',\n",
       " 'Gustavo Henrique Barros',\n",
       " 'Ana Carolina Almeida',\n",
       " 'Anthony Martins',\n",
       " 'Eloah Carvalho',\n",
       " 'Sra. Stella Alves',\n",
       " 'Srta. Luiza Castro',\n",
       " 'Enrico Martins',\n",
       " 'Sofia Rocha',\n",
       " 'Maria Vitória Lima',\n",
       " 'Lorena Correia',\n",
       " 'Cecília Azevedo',\n",
       " 'Gabriela Lima',\n",
       " 'Alexia Gomes',\n",
       " 'Srta. Elisa Azevedo',\n",
       " 'Luna Fernandes',\n",
       " 'Raquel Almeida',\n",
       " 'Helena Barbosa',\n",
       " 'Sophie Ferreira',\n",
       " 'Cecília Barros',\n",
       " 'Catarina Castro',\n",
       " 'Danilo Costela',\n",
       " 'Levi Pinto',\n",
       " 'Srta. Sofia Barbosa',\n",
       " 'Srta. Eloah Castro',\n",
       " 'Matheus Correia',\n",
       " 'Emanuelly Rocha',\n",
       " 'Manuela Melo',\n",
       " 'Gabriel Souza',\n",
       " 'Thales Fernandes',\n",
       " 'Sra. Ana Sophia Silva',\n",
       " 'Luiz Henrique Araújo',\n",
       " 'Srta. Isadora Cardoso',\n",
       " 'Sra. Ana Beatriz Barbosa',\n",
       " 'Enzo Ferreira',\n",
       " 'Sra. Maria Julia Almeida',\n",
       " 'Maria Clara Ferreira',\n",
       " 'Bruno Oliveira',\n",
       " 'Francisco Costela',\n",
       " 'Dra. Juliana Pinto',\n",
       " 'Leandro Santos',\n",
       " 'Thiago Rocha',\n",
       " 'Srta. Ana Lívia Rodrigues',\n",
       " 'Sabrina Barros',\n",
       " 'Ana Sophia Souza',\n",
       " 'Dr. Gustavo Henrique Correia',\n",
       " 'Thiago Araújo',\n",
       " 'Kamilly Martins',\n",
       " 'Juan Gomes',\n",
       " 'Maria Clara Silva',\n",
       " 'Fernando Fernandes',\n",
       " 'Luiz Felipe Pereira',\n",
       " 'Erick Ribeiro',\n",
       " 'Ana Cardoso',\n",
       " 'Evelyn Azevedo',\n",
       " 'Olivia Pereira',\n",
       " 'Sra. Sarah Martins',\n",
       " 'Miguel Correia',\n",
       " 'Caroline Pinto',\n",
       " 'Sra. Mirella Correia',\n",
       " 'Luiza Souza',\n",
       " 'Srta. Stephany Pinto',\n",
       " 'Enzo Pereira',\n",
       " 'Eloah Ribeiro',\n",
       " 'Helena Azevedo',\n",
       " 'Daniela Martins',\n",
       " 'Sra. Eloah Barbosa',\n",
       " 'Luiz Felipe Castro',\n",
       " 'Luna Ferreira',\n",
       " 'Davi Ferreira',\n",
       " 'Sr. Arthur Castro',\n",
       " 'Luiz Felipe Barbosa',\n",
       " 'Vitor Barbosa',\n",
       " 'Eduarda Martins',\n",
       " 'Eloah Pinto',\n",
       " 'João Guilherme Dias',\n",
       " 'Otávio Pereira',\n",
       " 'Sr. Henrique Cardoso',\n",
       " 'Emanuella Ribeiro',\n",
       " 'Isadora Costela',\n",
       " 'Sr. Erick Costela',\n",
       " 'Sra. Camila Rodrigues',\n",
       " 'Marcela Barbosa',\n",
       " 'Maria Julia Rodrigues',\n",
       " 'Dr. Daniel Carvalho',\n",
       " 'Maria Julia Santos',\n",
       " 'Sr. João Guilherme Ferreira',\n",
       " 'Laura Castro',\n",
       " 'Lavínia Barros',\n",
       " 'Igor Barbosa',\n",
       " 'Antonio Araújo',\n",
       " 'João Lucas Silva',\n",
       " 'Luiz Gustavo Pinto',\n",
       " 'Diego Azevedo',\n",
       " 'Helena Ferreira',\n",
       " 'Lucca Cunha',\n",
       " 'Srta. Kamilly Dias',\n",
       " 'Kamilly Pereira',\n",
       " 'Dr. João Alves',\n",
       " 'Nathan Almeida',\n",
       " 'Ana Laura Fernandes',\n",
       " 'Dr. Francisco Melo',\n",
       " 'Sra. Mariane Fernandes',\n",
       " 'Agatha Araújo',\n",
       " 'Maria Julia Ferreira',\n",
       " 'Vitória Cunha',\n",
       " 'Maria Eduarda Pinto',\n",
       " 'Gabriela Araújo',\n",
       " 'Pietro Costela',\n",
       " 'Srta. Vitória Barros',\n",
       " 'Yuri Ferreira',\n",
       " 'Laís Ribeiro',\n",
       " 'Isadora Cardoso',\n",
       " 'Sr. Lucas Gabriel Rocha',\n",
       " 'Giovanna Rodrigues',\n",
       " 'Joana Pereira',\n",
       " 'Fernando Pereira',\n",
       " 'Ana Vitória Melo',\n",
       " 'Rodrigo Cardoso',\n",
       " 'Maria Cecília Rodrigues',\n",
       " 'Joana Rodrigues',\n",
       " 'Srta. Julia Barros',\n",
       " 'Sr. Levi Costela',\n",
       " 'Beatriz Almeida',\n",
       " 'Sra. Maria Alice Santos',\n",
       " 'Alícia Rodrigues',\n",
       " 'Dra. Valentina Pereira',\n",
       " 'João Pinto',\n",
       " 'Enrico Costela',\n",
       " 'Alexandre Barros',\n",
       " 'Gabriela Martins',\n",
       " 'Noah Azevedo',\n",
       " 'Dr. Augusto Pereira',\n",
       " 'Esther Ribeiro',\n",
       " 'Sra. Pietra Dias',\n",
       " 'Pietra Souza',\n",
       " 'Sra. Maria Clara Alves',\n",
       " 'Dr. Bernardo Azevedo',\n",
       " 'Lucas Rodrigues',\n",
       " 'Pietra Melo',\n",
       " 'Agatha Cunha',\n",
       " 'Ana Clara Cardoso',\n",
       " 'Vitor Hugo Souza',\n",
       " 'Sr. Pietro Almeida',\n",
       " 'Dra. Lavínia Correia',\n",
       " 'João Lucas Martins',\n",
       " 'João Castro',\n",
       " 'Manuela Rodrigues',\n",
       " 'Dr. Eduardo Araújo',\n",
       " 'Srta. Carolina Pinto',\n",
       " 'Sra. Maria Fernanda Barros',\n",
       " 'Maria Fernanda Azevedo',\n",
       " 'Mariana Fernandes',\n",
       " 'Ana Beatriz Ferreira',\n",
       " 'Marcela Carvalho',\n",
       " 'Calebe Castro',\n",
       " 'Isadora Azevedo',\n",
       " 'Ana Sophia Silva',\n",
       " 'João Pedro Cunha',\n",
       " 'Gabriela Dias',\n",
       " 'João Felipe Pereira',\n",
       " 'João Pedro Cardoso',\n",
       " 'Raul Ferreira',\n",
       " 'Miguel Santos',\n",
       " 'Vitor Gabriel Dias',\n",
       " 'Ana Vitória Barbosa',\n",
       " 'Sr. Benício Pinto',\n",
       " 'Brenda Correia',\n",
       " 'Nathan Barros',\n",
       " 'Sarah Ferreira',\n",
       " 'Lívia Barbosa',\n",
       " 'Maria Luiza Araújo',\n",
       " 'Breno Ferreira',\n",
       " 'Pedro Oliveira',\n",
       " 'Henrique Gomes',\n",
       " 'Sr. João Guilherme Oliveira',\n",
       " 'Kaique Silva',\n",
       " 'Dra. Sabrina Gomes',\n",
       " 'Luiz Miguel Azevedo',\n",
       " 'Isabelly Carvalho',\n",
       " 'Gabriela Correia',\n",
       " 'Dra. Ana Lívia Dias',\n",
       " 'Gustavo Henrique Correia',\n",
       " 'Samuel Oliveira',\n",
       " 'Dr. Benjamin Araújo',\n",
       " 'Pedro Miguel Cardoso',\n",
       " 'João Vitor Oliveira',\n",
       " 'Bryan Gomes',\n",
       " 'Paulo Azevedo',\n",
       " 'Francisco Carvalho',\n",
       " 'Sophie Correia',\n",
       " 'Stella Fernandes',\n",
       " 'Yuri Oliveira',\n",
       " 'Ana Vitória Rodrigues',\n",
       " 'Davi Lucas Alves',\n",
       " 'Bárbara Dias',\n",
       " 'Sr. Thales Souza',\n",
       " 'Sr. Danilo Oliveira',\n",
       " 'Cecília Ribeiro',\n",
       " 'Otávio Barbosa',\n",
       " 'Ana Silva',\n",
       " 'Nicolas Barros',\n",
       " 'Srta. Nina Barbosa',\n",
       " 'Isabella Cardoso',\n",
       " 'Alícia Dias',\n",
       " 'Gabrielly Almeida',\n",
       " 'Srta. Gabriela Rodrigues',\n",
       " 'Manuela Pereira',\n",
       " 'Miguel Melo',\n",
       " 'Luiz Fernando Ferreira',\n",
       " 'Isabel Santos',\n",
       " 'Yuri Silva',\n",
       " 'Luna Melo',\n",
       " 'Sra. Brenda Barros',\n",
       " 'Cauê Cunha',\n",
       " 'Isabelly Ribeiro',\n",
       " 'Sr. Antonio Lima',\n",
       " 'Dra. Juliana Lima',\n",
       " 'Lavínia Santos',\n",
       " 'Srta. Kamilly Cunha',\n",
       " 'Sra. Mirella Lima',\n",
       " 'Clarice Santos',\n",
       " 'Maria Julia Souza',\n",
       " 'Sabrina Alves',\n",
       " 'Caroline Melo',\n",
       " 'Arthur Fernandes',\n",
       " 'Melissa Correia',\n",
       " 'Alice Martins',\n",
       " 'Dr. Joaquim Carvalho',\n",
       " 'Benjamin Barbosa',\n",
       " 'Luiz Fernando Carvalho',\n",
       " 'Juliana Carvalho',\n",
       " 'Alice Costela',\n",
       " 'Srta. Fernanda Santos',\n",
       " 'Davi Lucca Rocha',\n",
       " 'Luiz Miguel Pinto',\n",
       " 'Kamilly Araújo',\n",
       " 'Maria Julia Correia',\n",
       " 'Sr. Danilo Cardoso',\n",
       " 'Ana Julia Rocha',\n",
       " 'Thiago Fernandes',\n",
       " 'Ana Vitória Alves',\n",
       " 'Laura Lima',\n",
       " 'Kamilly Ribeiro',\n",
       " 'Stephany Pinto',\n",
       " 'Raul Azevedo',\n",
       " 'Sra. Laís Gomes',\n",
       " 'Sr. Isaac Ribeiro',\n",
       " 'Gustavo Barbosa',\n",
       " 'Luiz Miguel Barros',\n",
       " 'Srta. Catarina Gomes',\n",
       " 'Noah Cardoso',\n",
       " 'Marcelo Silva',\n",
       " 'Gabriel Fernandes',\n",
       " 'Kamilly Alves',\n",
       " 'Sra. Giovanna Almeida',\n",
       " 'Gustavo Alves',\n",
       " 'Srta. Giovanna Ribeiro',\n",
       " 'Emilly Barbosa',\n",
       " 'Diogo Correia',\n",
       " 'Eduarda Pereira',\n",
       " 'Pedro Lucas Lima',\n",
       " 'Luana Castro',\n",
       " 'Benjamin Melo',\n",
       " 'Stephany Barbosa',\n",
       " 'Sr. Rafael Carvalho',\n",
       " 'Ana Beatriz Santos',\n",
       " 'Leonardo Ferreira',\n",
       " 'Lavínia Ferreira',\n",
       " 'Calebe Cardoso',\n",
       " 'Ana Carolina Barros',\n",
       " 'Kaique Rocha',\n",
       " 'Matheus Ferreira',\n",
       " 'Kaique Martins',\n",
       " 'Dra. Eduarda Costela',\n",
       " 'Srta. Bruna Fernandes',\n",
       " 'Alexandre Correia',\n",
       " 'Laís Rodrigues',\n",
       " 'Anthony Correia',\n",
       " 'Gabrielly Souza',\n",
       " 'Sr. João Felipe Araújo',\n",
       " 'Alana Melo',\n",
       " 'Heitor Almeida',\n",
       " 'Agatha Castro',\n",
       " 'Ana Sophia Alves',\n",
       " 'Sra. Beatriz Barros',\n",
       " 'Sra. Joana Rodrigues',\n",
       " 'Bryan Barbosa',\n",
       " 'Eloah Costela',\n",
       " 'Gabriel Oliveira',\n",
       " 'Sra. Bárbara Correia',\n",
       " 'Theo Santos',\n",
       " 'Sra. Ana Lívia Ferreira',\n",
       " 'Igor Martins',\n",
       " 'Alexia Dias',\n",
       " 'Rodrigo Silva',\n",
       " 'Sra. Gabrielly Cardoso',\n",
       " 'Julia Araújo',\n",
       " 'Dra. Olivia Pinto',\n",
       " 'João Lucas Pinto',\n",
       " 'Thiago Cunha',\n",
       " 'Camila Fernandes',\n",
       " 'Sr. Leandro Rocha',\n",
       " 'Marcelo Oliveira',\n",
       " 'Pedro Lucas Martins',\n",
       " 'Marcela Pereira',\n",
       " 'Elisa Dias',\n",
       " 'André Almeida',\n",
       " 'Sr. Luiz Miguel Pinto',\n",
       " 'Clarice Silva',\n",
       " 'Pedro Miguel Fernandes',\n",
       " 'Pedro Lucas Gomes',\n",
       " 'Yago Gomes',\n",
       " 'Evelyn Souza',\n",
       " 'Murilo Dias',\n",
       " 'Laura Azevedo',\n",
       " 'Gabriel Azevedo',\n",
       " 'Joaquim Alves',\n",
       " 'Srta. Amanda Barbosa',\n",
       " 'Dra. Eduarda Oliveira',\n",
       " 'Bernardo Cardoso',\n",
       " 'Luna Lima',\n",
       " 'Srta. Ana Sophia Souza',\n",
       " 'Dra. Stella Melo',\n",
       " 'Eduarda Rodrigues',\n",
       " 'Luiz Henrique Silva',\n",
       " 'Breno Costela',\n",
       " 'Paulo Barbosa',\n",
       " 'Beatriz Ribeiro',\n",
       " 'Dra. Natália Carvalho',\n",
       " 'Ana Luiza Melo',\n",
       " 'Dra. Bianca Santos',\n",
       " 'Anthony Oliveira',\n",
       " 'Yasmin Rodrigues',\n",
       " 'Sr. Eduardo Alves',\n",
       " 'Eduardo Cardoso',\n",
       " 'Sofia Araújo',\n",
       " 'Marcos Vinicius Melo',\n",
       " 'Clara Castro',\n",
       " 'Erick Azevedo',\n",
       " 'Dr. Pedro Miguel Lima',\n",
       " 'Fernanda Ferreira',\n",
       " 'Sra. Bruna Azevedo',\n",
       " 'João Ribeiro',\n",
       " 'Carolina Ribeiro',\n",
       " 'Juan Castro',\n",
       " 'Dr. Henrique Rocha',\n",
       " 'Sr. Breno Barros',\n",
       " 'Laís Martins',\n",
       " 'Luiz Otávio Cardoso',\n",
       " 'Maria Clara Rodrigues',\n",
       " 'Nicole Costela',\n",
       " 'Thales Rocha',\n",
       " 'Lívia Pinto',\n",
       " 'Sr. Raul Pinto',\n",
       " 'Sofia Barbosa',\n",
       " 'Luiz Fernando Dias',\n",
       " 'Luana Costela',\n",
       " 'Bárbara Araújo',\n",
       " 'Camila Barros',\n",
       " 'Eloah Oliveira',\n",
       " 'Emanuelly Ribeiro',\n",
       " 'Maria Luiza Azevedo',\n",
       " 'Diogo Gomes',\n",
       " 'Lucas Araújo',\n",
       " 'Lara Pinto',\n",
       " 'Luiz Gustavo Rocha',\n",
       " 'Dr. Vicente Gomes',\n",
       " 'Murilo Souza',\n",
       " 'Dra. Nicole Carvalho',\n",
       " 'Dr. Enrico Dias',\n",
       " 'Sr. Enzo Gabriel Oliveira',\n",
       " 'Catarina Correia',\n",
       " 'Sophie Castro',\n",
       " 'Dr. Antonio Souza',\n",
       " 'Ana Laura Carvalho',\n",
       " 'Ana Julia Souza',\n",
       " 'Erick Correia',\n",
       " 'Thiago Barros',\n",
       " 'Nicole Silva',\n",
       " 'Ana Alves',\n",
       " 'Srta. Evelyn Castro',\n",
       " 'Luiz Gustavo Carvalho',\n",
       " 'Eloah Gomes',\n",
       " 'Calebe Costela',\n",
       " 'Mariana Pinto',\n",
       " 'Sofia Melo',\n",
       " 'Dr. Nicolas Rodrigues',\n",
       " 'Rebeca Ferreira',\n",
       " 'Thiago Santos',\n",
       " 'Sr. Yago Cunha',\n",
       " 'Mariane Cunha',\n",
       " 'Dra. Caroline Correia',\n",
       " 'João Guilherme Melo',\n",
       " 'Heloísa Pereira',\n",
       " 'Vitória Gomes',\n",
       " 'Raul Castro',\n",
       " 'Alexandre Pereira',\n",
       " 'Ana Vitória Dias',\n",
       " 'Heloísa Araújo',\n",
       " 'Caroline Rodrigues',\n",
       " 'Dra. Sofia Fernandes',\n",
       " 'João Miguel Ribeiro',\n",
       " 'Enrico Ribeiro',\n",
       " 'Srta. Eduarda Almeida',\n",
       " 'Cauã Dias',\n",
       " 'Mirella Rocha',\n",
       " 'Olivia Lima',\n",
       " 'Emanuel Azevedo',\n",
       " 'Lara Cunha',\n",
       " 'Srta. Juliana Cunha',\n",
       " 'Bárbara Barbosa',\n",
       " 'Daniela Dias',\n",
       " 'Alexandre Silva',\n",
       " 'Sr. Leonardo Santos',\n",
       " 'Ana Laura Costela',\n",
       " 'Giovanna Carvalho',\n",
       " 'Maysa Barros',\n",
       " 'João Lucas Carvalho',\n",
       " 'Pietra Castro',\n",
       " 'Srta. Carolina Rodrigues',\n",
       " 'Heloísa Barbosa',\n",
       " 'Dra. Ana Clara Santos',\n",
       " 'Eduardo Pereira',\n",
       " 'Dr. Henrique Barbosa',\n",
       " 'Leonardo Barros',\n",
       " 'Levi Ferreira',\n",
       " 'Srta. Juliana Oliveira',\n",
       " 'Gabriela Castro',\n",
       " 'Bernardo Souza',\n",
       " 'Pietro Ferreira',\n",
       " 'Diego Pereira',\n",
       " 'Ana Barbosa',\n",
       " 'João Lucas Araújo',\n",
       " 'Srta. Sarah Barbosa',\n",
       " 'Sr. Carlos Eduardo Alves',\n",
       " 'Sr. Igor Carvalho',\n",
       " 'Thiago Martins',\n",
       " 'Sra. Raquel Santos',\n",
       " 'Agatha Lima',\n",
       " 'Sr. Breno Ferreira',\n",
       " 'Sra. Alice Cunha',\n",
       " 'Sr. Alexandre Araújo',\n",
       " 'Maria Cecília Gomes',\n",
       " 'Sr. Lucas Fernandes',\n",
       " 'Mariane Costela',\n",
       " 'Sr. Carlos Eduardo Cardoso',\n",
       " 'Sr. Vitor Gabriel Alves',\n",
       " 'Pietro Pereira',\n",
       " 'Srta. Maria Fernanda Gomes',\n",
       " 'Maria Luiza Cunha',\n",
       " 'Dr. Antonio Rocha',\n",
       " 'Lorena Carvalho',\n",
       " 'Ana Julia Araújo',\n",
       " 'Nicole Cunha',\n",
       " 'Elisa Santos',\n",
       " 'Rafael Gomes',\n",
       " 'Eloah Martins',\n",
       " 'Bruno Souza',\n",
       " 'Fernanda Barros',\n",
       " 'Yasmin Lima',\n",
       " 'Dr. Pedro Costela',\n",
       " 'Noah Correia',\n",
       " 'Mariana Cunha',\n",
       " 'Ana Beatriz Barros',\n",
       " 'Carlos Eduardo Souza',\n",
       " 'Otávio Silva',\n",
       " 'Sra. Daniela Azevedo',\n",
       " 'Sra. Stephany Ribeiro',\n",
       " 'Isabella Lima',\n",
       " 'Emanuella Gomes',\n",
       " 'Dra. Milena Silva',\n",
       " 'Sr. Calebe Almeida',\n",
       " 'Eduarda Gomes',\n",
       " 'Dra. Emilly Silva',\n",
       " 'Caio Almeida',\n",
       " 'Luigi Silva',\n",
       " 'João Martins',\n",
       " 'João Felipe Lima',\n",
       " 'Calebe Rocha',\n",
       " 'Evelyn Dias',\n",
       " 'Srta. Eloah Ribeiro',\n",
       " 'Luiz Felipe Dias',\n",
       " 'Rodrigo Ribeiro',\n",
       " 'Dra. Emanuella Fernandes',\n",
       " 'Sabrina Martins',\n",
       " 'Luna Dias',\n",
       " 'Sra. Brenda Ribeiro',\n",
       " 'Sr. Carlos Eduardo Cunha',\n",
       " 'Leandro Costela',\n",
       " 'Yago Castro',\n",
       " 'João Melo',\n",
       " 'Dra. Carolina Barbosa',\n",
       " 'Davi Lucas Martins',\n",
       " 'Sr. Lucas Gabriel Santos',\n",
       " 'Thomas Azevedo',\n",
       " 'Lavínia Gomes',\n",
       " 'Ana Vitória Fernandes',\n",
       " 'Evelyn Lima',\n",
       " 'Sr. Luiz Gustavo Santos',\n",
       " 'Luigi Almeida',\n",
       " 'Anthony Araújo',\n",
       " 'Diego Fernandes',\n",
       " 'Dra. Mariane Oliveira',\n",
       " 'Elisa Ribeiro',\n",
       " 'Pedro Melo',\n",
       " 'Marcos Vinicius Almeida',\n",
       " 'Joana Martins',\n",
       " 'Sr. Augusto Gomes',\n",
       " 'Luiz Felipe Oliveira',\n",
       " 'Sr. Yuri Pinto',\n",
       " 'Felipe Correia',\n",
       " 'Dra. Maria Silva',\n",
       " 'Maria Araújo',\n",
       " 'Daniel Carvalho',\n",
       " 'Gabriela Pereira',\n",
       " 'Sophie Costela',\n",
       " 'Bianca Rocha',\n",
       " 'Fernando Castro',\n",
       " 'Luna Carvalho',\n",
       " 'Otávio Rocha',\n",
       " 'Sra. Rebeca Barbosa',\n",
       " 'Heitor Cunha',\n",
       " 'João Felipe Barros',\n",
       " 'Maria Sophia Pinto',\n",
       " 'Pedro Lucas Alves',\n",
       " 'Dr. Marcos Vinicius Barros',\n",
       " 'Sra. Lívia Gomes',\n",
       " 'Sra. Yasmin Pereira',\n",
       " 'Marcela Dias',\n",
       " 'Murilo Fernandes',\n",
       " 'Sr. João Lucas Ferreira',\n",
       " 'Davi Lucas Almeida',\n",
       " 'Dr. Pedro Miguel Oliveira',\n",
       " 'Sr. Gustavo Henrique Castro',\n",
       " 'Lorenzo Pereira',\n",
       " 'Srta. Maria Gomes',\n",
       " 'Sr. Miguel Azevedo',\n",
       " 'Felipe Barbosa',\n",
       " 'Miguel Rodrigues',\n",
       " 'Dra. Isabella Barros',\n",
       " 'João Guilherme Alves',\n",
       " 'João Felipe Barbosa',\n",
       " 'Paulo Ribeiro',\n",
       " 'Dra. Brenda Correia',\n",
       " 'Lavínia Souza',\n",
       " 'Dr. Bernardo Almeida',\n",
       " 'Juliana Dias',\n",
       " 'João Lucas Costela',\n",
       " 'Marina Ferreira',\n",
       " 'Miguel Castro',\n",
       " 'Giovanna Costela',\n",
       " 'Esther Barbosa',\n",
       " 'Leonardo Costela',\n",
       " 'Dra. Lavínia Melo',\n",
       " 'Thales Araújo',\n",
       " 'Kaique Araújo',\n",
       " 'Dr. Thales Almeida',\n",
       " 'Maria Sophia Barbosa',\n",
       " 'Erick Cardoso',\n",
       " 'Bruna Pinto',\n",
       " ...}"
      ]
     },
     "execution_count": 30,
     "metadata": {},
     "output_type": "execute_result"
    }
   ],
   "source": [
    "from faker import Factory\n",
    "\n",
    "factory = Factory.create('pt_BR')  # criando fábrica de dados falsos português brasileiro\n",
    "nomes = {factory.name() for _ in range(10000)}\n",
    "nomes"
   ]
  },
  {
   "cell_type": "markdown",
   "metadata": {
    "collapsed": true
   },
   "source": [
    "Agora vamos supor que temos uma lista de nomes e queremos conferir se eles estão no conjunto de nomes. Normalmente faríamos:"
   ]
  },
  {
   "cell_type": "code",
   "execution_count": 67,
   "metadata": {
    "collapsed": false
   },
   "outputs": [
    {
     "data": {
      "text/plain": [
       "['João Silva', 'Pedro Alves', 'Ana Ferreira', 'Eduardo Santos']"
      ]
     },
     "execution_count": 67,
     "metadata": {},
     "output_type": "execute_result"
    }
   ],
   "source": [
    "buscas = {'João Silva', 'Ana Ferreira', 'Eduardo Santos', 'Pedro Alves', 'Enzo Correira'}\n",
    "\n",
    "presentes = [busca for busca in buscas if busca in nomes]\n",
    "presentes"
   ]
  },
  {
   "cell_type": "code",
   "execution_count": 66,
   "metadata": {
    "collapsed": false
   },
   "outputs": [
    {
     "data": {
      "text/plain": [
       "['Enzo Correira']"
      ]
     },
     "execution_count": 66,
     "metadata": {},
     "output_type": "execute_result"
    }
   ],
   "source": [
    "ausentes = [busca for busca in buscas if busca not in nomes]\n",
    "ausentes"
   ]
  },
  {
   "cell_type": "markdown",
   "metadata": {},
   "source": [
    "Porém se usarmos operações de conjunto podemos fazer isso de forma mais simples e eficiente.\n",
    "\n",
    "Para saber quais nomes buscados estão no conjunto de nomes:"
   ]
  },
  {
   "cell_type": "code",
   "execution_count": 36,
   "metadata": {
    "collapsed": false
   },
   "outputs": [
    {
     "data": {
      "text/plain": [
       "{'Ana Ferreira', 'Eduardo Santos', 'João Silva', 'Pedro Alves'}"
      ]
     },
     "execution_count": 36,
     "metadata": {},
     "output_type": "execute_result"
    }
   ],
   "source": [
    "buscas & nomes"
   ]
  },
  {
   "cell_type": "markdown",
   "metadata": {},
   "source": [
    "Os nomes que não estão:"
   ]
  },
  {
   "cell_type": "code",
   "execution_count": 37,
   "metadata": {
    "collapsed": false
   },
   "outputs": [
    {
     "data": {
      "text/plain": [
       "{'Enzo Correira'}"
      ]
     },
     "execution_count": 37,
     "metadata": {},
     "output_type": "execute_result"
    }
   ],
   "source": [
    "buscas - nomes"
   ]
  },
  {
   "cell_type": "markdown",
   "metadata": {},
   "source": [
    "Comparando o tempo de execução das buscas usando `for` contra buscas usando intersecção obtemos o seguinte resultado:"
   ]
  },
  {
   "cell_type": "code",
   "execution_count": 87,
   "metadata": {
    "collapsed": true
   },
   "outputs": [],
   "source": [
    "# tamanho  | tempo set + for | tempo set + & | for vs &\n",
    "# 100      | 3.945e-05       | 1.86e-06      | & é 21.25x + rápido\n",
    "# 1000     | 5.844e-05       | 1.751e-05     | & é 3.34x + rápido\n",
    "# 10000    | 0.00014848      | 5.991e-05     | & é 2.48x + rápido\n",
    "# 100000   | 0.00015138      | 8.862e-05     | & é 1.71x + rápido\n",
    "# 1000000  | 0.00014647      | 8.113e-05     | & é 1.81x + rápido"
   ]
  },
  {
   "cell_type": "markdown",
   "metadata": {},
   "source": [
    "### dict\n",
    "\n",
    "Dict, dictnionary ou dicionário é a estrutura padrão de mapeamento e é indexado por chaves compostas por tipos imutáveis (números, strings, tuplas etc.).\n",
    "\n",
    "Já falamos sobre dicionários anteriormente, nesta aula faremos uma rápida revisão e aprofundremos mais sobre o assunto:"
   ]
  },
  {
   "cell_type": "code",
   "execution_count": 18,
   "metadata": {
    "collapsed": false
   },
   "outputs": [
    {
     "data": {
      "text/plain": [
       "10"
      ]
     },
     "execution_count": 18,
     "metadata": {},
     "output_type": "execute_result"
    }
   ],
   "source": [
    "votos = {'joão': 10, 'maria': 25, 'ana': 40, 'pedro': 75}\n",
    "votos['joão']"
   ]
  },
  {
   "cell_type": "code",
   "execution_count": 153,
   "metadata": {
    "collapsed": false
   },
   "outputs": [
    {
     "data": {
      "text/plain": [
       "{'ana': 40, 'joão': 11, 'maria': 25, 'pedro': 75}"
      ]
     },
     "execution_count": 153,
     "metadata": {},
     "output_type": "execute_result"
    }
   ],
   "source": [
    "votos['joão'] = 11\n",
    "votos"
   ]
  },
  {
   "cell_type": "markdown",
   "metadata": {},
   "source": [
    "Como podem ver aqui os dicionários não mantém a ordem de seus elementos. Criamos o dict com os elementos {'joão': 10, 'maria': 25, 'ana': 40, 'pedro': 75}, porém sua ordem atual é {'ana': 40, 'joão': 11, 'maria': 25, 'pedro': 75} e, futuramente, essa ordem pode ser outra conforme alteramos esse dicionário."
   ]
  },
  {
   "cell_type": "code",
   "execution_count": 154,
   "metadata": {
    "collapsed": false
   },
   "outputs": [
    {
     "data": {
      "text/plain": [
       "4"
      ]
     },
     "execution_count": 154,
     "metadata": {},
     "output_type": "execute_result"
    }
   ],
   "source": [
    "len(votos)"
   ]
  },
  {
   "cell_type": "code",
   "execution_count": 3,
   "metadata": {
    "collapsed": false
   },
   "outputs": [
    {
     "data": {
      "text/plain": [
       "{'ana': 40, 'maria': 25, 'pedro': 75}"
      ]
     },
     "execution_count": 3,
     "metadata": {},
     "output_type": "execute_result"
    }
   ],
   "source": [
    "del votos['joão']\n",
    "votos"
   ]
  },
  {
   "cell_type": "markdown",
   "metadata": {},
   "source": [
    "Vale notar que ao tentar acessar um elemento não existente é levantada uma exceção:"
   ]
  },
  {
   "cell_type": "code",
   "execution_count": 130,
   "metadata": {
    "collapsed": false
   },
   "outputs": [
    {
     "ename": "KeyError",
     "evalue": "'joão'",
     "output_type": "error",
     "traceback": [
      "\u001b[1;31m---------------------------------------------------------------------------\u001b[0m",
      "\u001b[1;31mKeyError\u001b[0m                                  Traceback (most recent call last)",
      "\u001b[1;32m<ipython-input-130-5818ac2b3445>\u001b[0m in \u001b[0;36m<module>\u001b[1;34m()\u001b[0m\n\u001b[1;32m----> 1\u001b[1;33m \u001b[0mvotos\u001b[0m\u001b[1;33m[\u001b[0m\u001b[1;34m'joão'\u001b[0m\u001b[1;33m]\u001b[0m\u001b[1;33m\u001b[0m\u001b[0m\n\u001b[0m",
      "\u001b[1;31mKeyError\u001b[0m: 'joão'"
     ]
    }
   ],
   "source": [
    "votos['joão']"
   ]
  },
  {
   "cell_type": "markdown",
   "metadata": {},
   "source": [
    "As vezes pode ser necessário evitar esse tipo de comportamento. Isso pode ser feito usando a função:"
   ]
  },
  {
   "cell_type": "code",
   "execution_count": 132,
   "metadata": {
    "collapsed": false
   },
   "outputs": [
    {
     "name": "stdout",
     "output_type": "stream",
     "text": [
      "None\n"
     ]
    }
   ],
   "source": [
    "print(votos.get('joão'))"
   ]
  },
  {
   "cell_type": "markdown",
   "metadata": {},
   "source": [
    "também é possível estabelecer um valor para ser retornado caso a chave não seja encontrada:"
   ]
  },
  {
   "cell_type": "code",
   "execution_count": 133,
   "metadata": {
    "collapsed": false
   },
   "outputs": [
    {
     "data": {
      "text/plain": [
       "0"
      ]
     },
     "execution_count": 133,
     "metadata": {},
     "output_type": "execute_result"
    }
   ],
   "source": [
    "votos.get('joão', 0)"
   ]
  },
  {
   "cell_type": "markdown",
   "metadata": {},
   "source": [
    "Por exemplo se você quiser contabilizar os votos de uma eleição em que nem todos os candidatos receberam votos e, portanto, não aparecem no dicionário votos:"
   ]
  },
  {
   "cell_type": "code",
   "execution_count": 144,
   "metadata": {
    "collapsed": false
   },
   "outputs": [
    {
     "data": {
      "text/plain": [
       "['ana', 'pedro', 'maria', 'joão', 'muriel', 'marcola']"
      ]
     },
     "execution_count": 144,
     "metadata": {},
     "output_type": "execute_result"
    }
   ],
   "source": [
    "candidatos = list(votos.keys()) + ['joão', 'muriel', 'marcola']\n",
    "candidatos"
   ]
  },
  {
   "cell_type": "code",
   "execution_count": 150,
   "metadata": {
    "collapsed": false
   },
   "outputs": [
    {
     "name": "stdout",
     "output_type": "stream",
     "text": [
      "ana recebeu 40 votos.\n",
      "pedro recebeu 75 votos.\n",
      "maria recebeu 25 votos.\n",
      "joão recebeu 0 votos.\n",
      "muriel recebeu 0 votos.\n",
      "marcola recebeu 0 votos.\n"
     ]
    }
   ],
   "source": [
    "for candidato in candidatos:\n",
    "    print('{} recebeu {} votos.'.format(candidato, votos.get(candidato, 0)))"
   ]
  },
  {
   "cell_type": "markdown",
   "metadata": {},
   "source": [
    "Podemos verificar se alguma chave existe no dicionário com o `in`:"
   ]
  },
  {
   "cell_type": "code",
   "execution_count": 155,
   "metadata": {
    "collapsed": false
   },
   "outputs": [
    {
     "data": {
      "text/plain": [
       "{'ana': 40, 'joão': 11, 'maria': 25, 'pedro': 75}"
      ]
     },
     "execution_count": 155,
     "metadata": {},
     "output_type": "execute_result"
    }
   ],
   "source": [
    "votos"
   ]
  },
  {
   "cell_type": "code",
   "execution_count": 156,
   "metadata": {
    "collapsed": false
   },
   "outputs": [
    {
     "data": {
      "text/plain": [
       "True"
      ]
     },
     "execution_count": 156,
     "metadata": {},
     "output_type": "execute_result"
    }
   ],
   "source": [
    "'ana' in votos"
   ]
  },
  {
   "cell_type": "code",
   "execution_count": 157,
   "metadata": {
    "collapsed": false
   },
   "outputs": [
    {
     "data": {
      "text/plain": [
       "False"
      ]
     },
     "execution_count": 157,
     "metadata": {},
     "output_type": "execute_result"
    }
   ],
   "source": [
    "'penélope' in votos"
   ]
  },
  {
   "cell_type": "code",
   "execution_count": 22,
   "metadata": {
    "collapsed": false
   },
   "outputs": [
    {
     "data": {
      "text/plain": [
       "4"
      ]
     },
     "execution_count": 22,
     "metadata": {},
     "output_type": "execute_result"
    }
   ],
   "source": [
    "len(votos)  # número de items no dict"
   ]
  },
  {
   "cell_type": "code",
   "execution_count": 23,
   "metadata": {
    "collapsed": false
   },
   "outputs": [
    {
     "data": {
      "text/plain": [
       "{'ana': 40, 'joão': 10, 'maria': 25, 'milena': 100, 'mário': 1, 'pedro': 75}"
      ]
     },
     "execution_count": 23,
     "metadata": {},
     "output_type": "execute_result"
    }
   ],
   "source": [
    "outros_votos = {'milena': 100, 'mário': 1}\n",
    "votos.update(outros_votos)  # atualiza o dicionário votos com os items de outros_votos\n",
    "votos"
   ]
  },
  {
   "cell_type": "markdown",
   "metadata": {},
   "source": [
    "Para acessar somente as chaves de um dicionário fazemos:"
   ]
  },
  {
   "cell_type": "code",
   "execution_count": 163,
   "metadata": {
    "collapsed": false
   },
   "outputs": [
    {
     "data": {
      "text/plain": [
       "dict_keys(['ana', 'pedro', 'maria'])"
      ]
     },
     "execution_count": 163,
     "metadata": {},
     "output_type": "execute_result"
    }
   ],
   "source": [
    "votos.keys()"
   ]
  },
  {
   "cell_type": "markdown",
   "metadata": {},
   "source": [
    "Percebe-se que o retorno não é uma lista de chaves, mas sim um `dict_keys`. Não vou entrar em detalhes, mas esse `dict_keys` - junto com `dict_values` e `dict_items` que serão mostrados mais a frente - se comportam como conjunto, por tanto verificações de pertencimento são muito eficientes, além de suportar algumas operações de conjuntos:\n",
    "\n",
    "*Para mais informações verifique a [documentação oficial](https://docs.python.org/3/library/stdtypes.html#dict-views) e o [PEP 3106](https://www.python.org/dev/peps/pep-3106/) em que essa mudança foi proposta*"
   ]
  },
  {
   "cell_type": "code",
   "execution_count": 164,
   "metadata": {
    "collapsed": false
   },
   "outputs": [
    {
     "data": {
      "text/plain": [
       "{'maria'}"
      ]
     },
     "execution_count": 164,
     "metadata": {},
     "output_type": "execute_result"
    }
   ],
   "source": [
    "['maria', 'adelaide'] & votos.keys()"
   ]
  },
  {
   "cell_type": "code",
   "execution_count": 165,
   "metadata": {
    "collapsed": false
   },
   "outputs": [
    {
     "data": {
      "text/plain": [
       "{'adelaide'}"
      ]
     },
     "execution_count": 165,
     "metadata": {},
     "output_type": "execute_result"
    }
   ],
   "source": [
    "['maria', 'adelaide'] - votos.keys()"
   ]
  },
  {
   "cell_type": "markdown",
   "metadata": {},
   "source": [
    "Para acessar somente os valores do dicionários:"
   ]
  },
  {
   "cell_type": "code",
   "execution_count": 8,
   "metadata": {
    "collapsed": false
   },
   "outputs": [
    {
     "data": {
      "text/plain": [
       "dict_values([25, 40, 75])"
      ]
     },
     "execution_count": 8,
     "metadata": {},
     "output_type": "execute_result"
    }
   ],
   "source": [
    "votos.values()"
   ]
  },
  {
   "cell_type": "markdown",
   "metadata": {},
   "source": [
    "Como os valores não são únicos o `dict_values` não pode se comportar como conjunto, por esse motivo ele não possui as operações de conjuntos"
   ]
  },
  {
   "cell_type": "code",
   "execution_count": 11,
   "metadata": {
    "collapsed": false
   },
   "outputs": [
    {
     "data": {
      "text/plain": [
       "dict_items([('maria', 25), ('ana', 40), ('pedro', 75)])"
      ]
     },
     "execution_count": 11,
     "metadata": {},
     "output_type": "execute_result"
    }
   ],
   "source": [
    "votos.items()"
   ]
  },
  {
   "cell_type": "markdown",
   "metadata": {},
   "source": [
    "Porém o `dict.items()` implementa as operações de conjuntos, pois a dupla `chave` e `valor` são únicas:"
   ]
  },
  {
   "cell_type": "code",
   "execution_count": 12,
   "metadata": {
    "collapsed": false
   },
   "outputs": [
    {
     "data": {
      "text/plain": [
       "{('maria', 25)}"
      ]
     },
     "execution_count": 12,
     "metadata": {},
     "output_type": "execute_result"
    }
   ],
   "source": [
    "[('jean', 50), ('maria', 25)] & votos.items()"
   ]
  },
  {
   "cell_type": "code",
   "execution_count": 14,
   "metadata": {
    "collapsed": false
   },
   "outputs": [
    {
     "data": {
      "text/plain": [
       "{('jean', 50)}"
      ]
     },
     "execution_count": 14,
     "metadata": {},
     "output_type": "execute_result"
    }
   ],
   "source": [
    "[('jean', 50), ('maria', 25)] - votos.items()"
   ]
  },
  {
   "cell_type": "markdown",
   "metadata": {},
   "source": [
    "Revendo iteração de dicionários:"
   ]
  },
  {
   "cell_type": "code",
   "execution_count": 15,
   "metadata": {
    "collapsed": false
   },
   "outputs": [
    {
     "name": "stdout",
     "output_type": "stream",
     "text": [
      "maria\n",
      "ana\n",
      "pedro\n"
     ]
    }
   ],
   "source": [
    "for nome in votos.keys():\n",
    "    print(nome)"
   ]
  },
  {
   "cell_type": "code",
   "execution_count": 16,
   "metadata": {
    "collapsed": false
   },
   "outputs": [
    {
     "name": "stdout",
     "output_type": "stream",
     "text": [
      "25\n",
      "40\n",
      "75\n"
     ]
    }
   ],
   "source": [
    "for qtd_votos in votos.values():\n",
    "    print(qtd_votos)"
   ]
  },
  {
   "cell_type": "code",
   "execution_count": 21,
   "metadata": {
    "collapsed": false
   },
   "outputs": [
    {
     "name": "stdout",
     "output_type": "stream",
     "text": [
      "Maria recebeu 25 votos.\n",
      "Ana recebeu 40 votos.\n",
      "João recebeu 10 votos.\n",
      "Pedro recebeu 75 votos.\n"
     ]
    }
   ],
   "source": [
    "for nome, qtd_votos in votos.items():  # atribuição múltipla, lembra?\n",
    "    print('{} recebeu {} votos.'.format(nome.capitalize(), qtd_votos))"
   ]
  },
  {
   "cell_type": "markdown",
   "metadata": {},
   "source": [
    "### Exercício\n",
    "\n",
    "- Calcule a média de votos por candidatos:"
   ]
  },
  {
   "cell_type": "code",
   "execution_count": 231,
   "metadata": {
    "collapsed": false
   },
   "outputs": [],
   "source": [
    "# não mude esse código, ele que gera os votos para você testar seu programa\n",
    "\n",
    "from faker import Factory\n",
    "import random\n",
    "\n",
    "factory = Factory.create('pt_BR')\n",
    "\n",
    "# usa distribuição de gauss para gerar quantidade de votos\n",
    "votos = {factory.name(): abs(round(random.gauss(0, .2) * 10000)) for _ in range(333)}\n",
    "# deixa nomes completos com somente dois nomes\n",
    "votos = {nome: votos for nome, votos in votos.items() if len(nome.split()) == 2}"
   ]
  },
  {
   "cell_type": "code",
   "execution_count": 232,
   "metadata": {
    "collapsed": false
   },
   "outputs": [
    {
     "name": "stdout",
     "output_type": "stream",
     "text": [
      "1618.7004830917874\n"
     ]
    }
   ],
   "source": [
    "def media(votos):\n",
    "    ...\n",
    "\n",
    "print(media(votos))"
   ]
  },
  {
   "cell_type": "markdown",
   "metadata": {},
   "source": [
    "Assim como listas e sets, dicionários também possuem uma maneira de criar dicts com facilidade: `dict comprehension`"
   ]
  },
  {
   "cell_type": "code",
   "execution_count": 106,
   "metadata": {
    "collapsed": false
   },
   "outputs": [
    {
     "data": {
      "text/plain": [
       "{'Dr. Luigi Lima': '546.207.891-94',\n",
       " 'Enrico Barros': '670.824.539-65',\n",
       " 'Fernando Barbosa': '302.961.574-14',\n",
       " 'Gabriela Castro': '923.507.648-18',\n",
       " 'Luiz Gustavo Gomes': '650.172.849-58',\n",
       " 'Marcelo Martins': '029.483.756-65',\n",
       " 'Maria Fernanda Azevedo': '932.486.175-19',\n",
       " 'Paulo Ribeiro': '637.105.428-71',\n",
       " 'Pedro Henrique Castro': '871.630.429-22',\n",
       " 'Valentina Correia': '836.210.957-21'}"
      ]
     },
     "execution_count": 106,
     "metadata": {},
     "output_type": "execute_result"
    }
   ],
   "source": [
    "from faker import Factory\n",
    "\n",
    "factory = Factory.create('pt_BR')\n",
    "cpfs = {factory.name(): factory.cpf() for _ in range(10)}\n",
    "cpfs"
   ]
  },
  {
   "cell_type": "code",
   "execution_count": 234,
   "metadata": {
    "collapsed": false
   },
   "outputs": [
    {
     "data": {
      "text/plain": [
       "{0: 0, 1: 1, 2: 4, 3: 9, 4: 16, 5: 25, 6: 36, 7: 49, 8: 64, 9: 81}"
      ]
     },
     "execution_count": 234,
     "metadata": {},
     "output_type": "execute_result"
    }
   ],
   "source": [
    "{numero: numero ** 2 for numero in range(10)}"
   ]
  },
  {
   "cell_type": "markdown",
   "metadata": {},
   "source": [
    "Acontece que dict comprehension nos dá uma maneira muito bonilinda de inverter as chaves e valores de dicionários:"
   ]
  },
  {
   "cell_type": "code",
   "execution_count": 235,
   "metadata": {
    "collapsed": false
   },
   "outputs": [
    {
     "data": {
      "text/plain": [
       "{'ana': '9103', 'joão': '9941', 'maria': '9301', 'márcio': '9203'}"
      ]
     },
     "execution_count": 235,
     "metadata": {},
     "output_type": "execute_result"
    }
   ],
   "source": [
    "telefones = {'joão': '9941', 'ana': '9103', 'maria': '9301', 'márcio': '9203'}\n",
    "telefones"
   ]
  },
  {
   "cell_type": "markdown",
   "metadata": {},
   "source": [
    "Normalmente faríamos:"
   ]
  },
  {
   "cell_type": "code",
   "execution_count": 236,
   "metadata": {
    "collapsed": false
   },
   "outputs": [
    {
     "data": {
      "text/plain": [
       "{'9103': 'ana', '9203': 'márcio', '9301': 'maria', '9941': 'joão'}"
      ]
     },
     "execution_count": 236,
     "metadata": {},
     "output_type": "execute_result"
    }
   ],
   "source": [
    "nomes = {}\n",
    "for nome, telefone in telefones.items():\n",
    "    nomes[telefone] = nome\n",
    "    \n",
    "nomes"
   ]
  },
  {
   "cell_type": "markdown",
   "metadata": {},
   "source": [
    "Mas com dict comprehension é muito mais fácil:"
   ]
  },
  {
   "cell_type": "code",
   "execution_count": 237,
   "metadata": {
    "collapsed": false
   },
   "outputs": [
    {
     "data": {
      "text/plain": [
       "{'9103': 'ana', '9203': 'márcio', '9301': 'maria', '9941': 'joão'}"
      ]
     },
     "execution_count": 237,
     "metadata": {},
     "output_type": "execute_result"
    }
   ],
   "source": [
    "{telefone: nome for nome, telefone in telefones.items()}"
   ]
  },
  {
   "cell_type": "markdown",
   "metadata": {
    "collapsed": true
   },
   "source": [
    "### Exercícios\n",
    "\n",
    "- Dado uma frase calcule as ocorrências de cada palavra naquela. Armazene cada palavra como chave em um dict e as quantidade seu valor:"
   ]
  },
  {
   "cell_type": "code",
   "execution_count": null,
   "metadata": {
    "collapsed": true
   },
   "outputs": [],
   "source": [
    "def conta_palavras(frase):\n",
    "    ..."
   ]
  },
  {
   "cell_type": "markdown",
   "metadata": {},
   "source": [
    "A hapax legomenon (often abbreviated to hapax) is a word which occurs only once in either the written record of a language, the works of an author, or in a single text. Define a function that given the file name of a text will return all its hapaxes. Make sure your program ignores capitalization."
   ]
  },
  {
   "cell_type": "markdown",
   "metadata": {},
   "source": []
  }
 ],
 "metadata": {
  "kernelspec": {
   "display_name": "Python 3",
   "language": "python",
   "name": "python3"
  },
  "language_info": {
   "codemirror_mode": {
    "name": "ipython",
    "version": 3
   },
   "file_extension": ".py",
   "mimetype": "text/x-python",
   "name": "python",
   "nbconvert_exporter": "python",
   "pygments_lexer": "ipython3",
   "version": "3.5.0+"
  }
 },
 "nbformat": 4,
 "nbformat_minor": 0
}
